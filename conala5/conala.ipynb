{
 "cells": [
  {
   "cell_type": "markdown",
   "metadata": {},
   "source": [
    "# CoNaLA"
   ]
  },
  {
   "cell_type": "code",
   "execution_count": 3,
   "metadata": {},
   "outputs": [],
   "source": [
    "import string\n",
    "import re\n",
    "\n",
    "\n",
    "QUOTED_STRING_RE = re.compile(\n",
    "    r\"(?P<quote>['`\\\"])(?P<string>.*?)(?<!\\\\)(?P=quote)\")\n",
    "\n",
    "\n",
    "def parse_quoted_string(search_string):\n",
    "    return QUOTED_STRING_RE.findall(search_string)\n",
    "\n",
    "def parameterized(s, t, fmt='_{}_', A=string.ascii_uppercase):\n",
    "    quotes = parse_quoted_string(s)\n",
    "    t = f' {t} '\n",
    "    index = 0\n",
    "    d = {}\n",
    "    dt = {}\n",
    "    for q in quotes:\n",
    "        qq = f'{q[0]}{q[1]}{q[0]}'\n",
    "        var = fmt.format(A[len(d)])\n",
    "        if qq in t:\n",
    "            d[var] = qq\n",
    "            dt[var] = qq\n",
    "            t = t.replace(qq, var)\n",
    "            s = s.replace(qq, var)\n",
    "            continue\n",
    "        if q[1] in t:\n",
    "            d[var] = qq\n",
    "            dt[var] = q[1]\n",
    "            if q[1].isalnum():\n",
    "                pat = f'([^A-Za-z0-9])({q[1]})([^A-Za-z0-9])'\n",
    "                t = re.sub(pat, f'\\\\1{var}\\\\3', t)\n",
    "            else:\n",
    "                t = t.replace(q[1], var)\n",
    "            s = s.replace(qq, var)\n",
    "    return s, t.strip(), d, dt\n"
   ]
  },
  {
   "cell_type": "code",
   "execution_count": 11,
   "metadata": {},
   "outputs": [],
   "source": [
    "import csv\n",
    "lines = []\n",
    "with open('conala5_train.tsv') as f:\n",
    "    reader = csv.reader(f, delimiter='\\t')\n",
    "    for row in reader:\n",
    "        s, t, _, _ = parameterized(row[0], row[1])\n",
    "        lines.append((s, t))\n",
    "with open('conala_train.py', 'w') as w:\n",
    "    for s, t in lines:\n",
    "        print(t, file=w)\n",
    "        print(f\"'''\\n{s}\\n'''\\n\", file=w)"
   ]
  }
 ],
 "metadata": {
  "kernelspec": {
   "display_name": "Python 3.9.10 64-bit",
   "language": "python",
   "name": "python3"
  },
  "language_info": {
   "codemirror_mode": {
    "name": "ipython",
    "version": 3
   },
   "file_extension": ".py",
   "mimetype": "text/x-python",
   "name": "python",
   "nbconvert_exporter": "python",
   "pygments_lexer": "ipython3",
   "version": "3.9.10"
  },
  "orig_nbformat": 4,
  "vscode": {
   "interpreter": {
    "hash": "aee8b7b246df8f9039afb4144a1f6fd8d2ca17a180786b69acc140d282b71a49"
   }
  }
 },
 "nbformat": 4,
 "nbformat_minor": 2
}
