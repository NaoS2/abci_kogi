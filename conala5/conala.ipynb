{
 "cells": [
  {
   "cell_type": "markdown",
   "metadata": {},
   "source": [
    "# CoNaLA"
   ]
  },
  {
   "cell_type": "code",
   "execution_count": null,
   "metadata": {},
   "outputs": [],
   "source": [
    "import string\n",
    "import re\n",
    "\n",
    "\n",
    "QUOTED_STRING_RE = re.compile(\n",
    "    r\"(?P<quote>['`\\\"])(?P<string>.*?)(?<!\\\\)(?P=quote)\")\n",
    "\n",
    "\n",
    "def parse_quoted_string(search_string):\n",
    "    return QUOTED_STRING_RE.findall(search_string)\n",
    "\n",
    "def parameterized(s, t, fmt='_{}_', A=string.ascii_uppercase):\n",
    "    quotes = parse_quoted_string(s)\n",
    "    t = f' {t} '\n",
    "    index = 0\n",
    "    d = {}\n",
    "    dt = {}\n",
    "    for q in quotes:\n",
    "        qq = f'{q[0]}{q[1]}{q[0]}'\n",
    "        var = fmt.format(A[len(d)])\n",
    "        if qq in t:\n",
    "            d[var] = qq\n",
    "            dt[var] = qq\n",
    "            t = t.replace(qq, var)\n",
    "            s = s.replace(qq, var)\n",
    "            continue\n",
    "        if q[1] in t:\n",
    "            d[var] = qq\n",
    "            dt[var] = q[1]\n",
    "            if q[1].isalnum():\n",
    "                pat = f'([^A-Za-z0-9])({q[1]})([^A-Za-z0-9])'\n",
    "                t = re.sub(pat, f'\\\\1{var}\\\\3', t)\n",
    "            else:\n",
    "                t = t.replace(q[1], var)\n",
    "            s = s.replace(qq, var)\n",
    "    return s, t.strip(), d, dt\n"
   ]
  },
  {
   "cell_type": "code",
   "execution_count": null,
   "metadata": {},
   "outputs": [],
   "source": [
    "import csv\n"
   ]
  }
 ],
 "metadata": {
  "language_info": {
   "name": "python"
  },
  "orig_nbformat": 4
 },
 "nbformat": 4,
 "nbformat_minor": 2
}
