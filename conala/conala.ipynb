{
 "cells": [
  {
   "cell_type": "markdown",
   "metadata": {},
   "source": [
    "# CoNaLA"
   ]
  },
  {
   "cell_type": "code",
   "execution_count": 1,
   "metadata": {},
   "outputs": [
    {
     "name": "stdout",
     "output_type": "stream",
     "text": [
      "loaded: 2379, 500\n"
     ]
    }
   ],
   "source": [
    "import json\n",
    "train_data=[]\n",
    "test_data=[]\n",
    "with open('conala-corpus/conala-train.json') as f:\n",
    "    data = json.load(f)\n",
    "    for item in data:\n",
    "        intent = item['rewritten_intent']\n",
    "        if intent is None:\n",
    "            intent = item['intent']\n",
    "        code = item['snippet']\n",
    "        train_data.append((intent, code))\n",
    "with open('conala-corpus/conala-test.json') as f:\n",
    "    data = json.load(f)\n",
    "    for item in data:\n",
    "        intent = item['rewritten_intent']\n",
    "        if intent is None:\n",
    "            intent = item['intent']\n",
    "        code = item['snippet']\n",
    "        test_data.append((intent, code))\n",
    "print(f'loaded: {len(train_data)}, {len(test_data)}')\n"
   ]
  },
  {
   "cell_type": "code",
   "execution_count": 7,
   "metadata": {},
   "outputs": [],
   "source": [
    "import csv\n",
    "with open('conala6_train.tsv', 'w') as f:\n",
    "    w = csv.writer(f, delimiter='\\t')\n",
    "    for intent, code in train_data:\n",
    "        code=code.replace('\\n', '<nl>').replace('\\t', '    ')\n",
    "        w.writerow((intent, code))\n",
    "with open('conala6_test.tsv', 'w') as f:\n",
    "    w = csv.writer(f, delimiter='\\t')\n",
    "    for intent, code in test_data:\n",
    "        code=code.replace('\\n', '<nl>').replace('\\t', '    ')\n",
    "        w.writerow((intent, code))"
   ]
  },
  {
   "cell_type": "code",
   "execution_count": 4,
   "metadata": {},
   "outputs": [],
   "source": [
    "import string\n",
    "import re\n",
    "\n",
    "\n",
    "QUOTED_STRING_RE = re.compile(\n",
    "    r\"(?P<quote>['`\\\"])(?P<string>.*?)(?<!\\\\)(?P=quote)\")\n",
    "\n",
    "\n",
    "def parse_quoted_string(search_string):\n",
    "    return QUOTED_STRING_RE.findall(search_string)\n",
    "\n",
    "def parameterized(s, t, fmt='{}', A=string.ascii_uppercase):\n",
    "    quotes = parse_quoted_string(s)\n",
    "    t = f' {t} '\n",
    "    index = 0\n",
    "    d = {}\n",
    "    dt = {}\n",
    "    for q in quotes:\n",
    "        qq = f'{q[0]}{q[1]}{q[0]}'\n",
    "        var = fmt.format(A[len(d)])\n",
    "        if qq in t:\n",
    "            d[var] = qq\n",
    "            dt[var] = qq\n",
    "            t = t.replace(qq, var)\n",
    "            s = s.replace(qq, var)\n",
    "            continue\n",
    "        if q[1] in t:\n",
    "            d[var] = qq\n",
    "            dt[var] = q[1]\n",
    "            if q[1].isalnum():\n",
    "                pat = f'([^A-Za-z0-9])({q[1]})([^A-Za-z0-9])'\n",
    "                t = re.sub(pat, f'\\\\1{var}\\\\3', t)\n",
    "            else:\n",
    "                t = t.replace(q[1], var)\n",
    "            s = s.replace(qq, var)\n",
    "    return s, t.strip(), d, dt\n"
   ]
  },
  {
   "cell_type": "code",
   "execution_count": 5,
   "metadata": {},
   "outputs": [],
   "source": [
    "import csv\n",
    "with open('conala6sp_train.tsv', 'w') as f:\n",
    "    w = csv.writer(f, delimiter='\\t')\n",
    "    for intent, code in train_data:\n",
    "        code=code.replace('\\n', '<nl>').replace('\\t', '    ')\n",
    "        intent, code, _, _ = parameterized(intent, code)\n",
    "        w.writerow((intent, code))\n",
    "with open('conala6sp_test.tsv', 'w') as f:\n",
    "    w = csv.writer(f, delimiter='\\t')\n",
    "    for intent, code in test_data:\n",
    "        code=code.replace('\\n', '<nl>').replace('\\t', '    ')\n",
    "        intent, code, _, _ = parameterized(intent, code)\n",
    "        w.writerow((intent, code))\n"
   ]
  }
 ],
 "metadata": {
  "kernelspec": {
   "display_name": "Python 3.9.1 64-bit ('3.9.1')",
   "language": "python",
   "name": "python3"
  },
  "language_info": {
   "codemirror_mode": {
    "name": "ipython",
    "version": 3
   },
   "file_extension": ".py",
   "mimetype": "text/x-python",
   "name": "python",
   "nbconvert_exporter": "python",
   "pygments_lexer": "ipython3",
   "version": "3.9.1"
  },
  "orig_nbformat": 4,
  "vscode": {
   "interpreter": {
    "hash": "c8be6666515bb27460bf6cd7ae87ae3f9511a863053075b8f6f58c5c8f22e3cb"
   }
  }
 },
 "nbformat": 4,
 "nbformat_minor": 2
}
